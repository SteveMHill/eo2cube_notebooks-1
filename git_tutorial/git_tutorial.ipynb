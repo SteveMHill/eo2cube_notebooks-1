{
 "cells": [
  {
   "cell_type": "markdown",
   "metadata": {},
   "source": [
    "<center>\n",
    "    <img src=\"images/git.png\" width=100 padding = 0px/>\n",
    "    <br>\n",
    "    <span style=\"font-family:Papyrus;  line-height= 0; font-size:2em;\">  An Introduction to Git and Github </span>\n",
    "<center>"
   ]
  },
  {
   "cell_type": "markdown",
   "metadata": {},
   "source": [
    "# Basics"
   ]
  },
  {
   "cell_type": "markdown",
   "metadata": {},
   "source": [
    "## Whats is git?\n",
    "\n",
    "Git is a free software for distributed version management of files\n",
    "\n",
    "Git was originally developed by Linus Torvald for source code management of the Linux kernel\n",
    "\n",
    "It is by far the most widely used modern version control system in the world today\n",
    "\n",
    "With its distributed architecture, Git is an example of a DVCS (Distributed Version Control System)\n",
    "\n"
   ]
  },
  {
   "cell_type": "markdown",
   "metadata": {},
   "source": [
    "## What is version\n",
    "\n",
    "Version control is a system that records changes to a file or set of files over time so that you can recall specific versions later. \n",
    "\n",
    "Types\n",
    "  \n",
    "  - Local Version Control Systems\n",
    "  - Centralized Version Control Systems\n",
    "  - Distributed Version Control Systems\n",
    "  "
   ]
  },
  {
   "cell_type": "markdown",
   "metadata": {},
   "source": [
    "## Why using VCS?\n",
    "\n",
    "- Keep track of all files in a project\n",
    "- Record any changes to project files\n",
    "- Restore previous versions of files\n",
    "- Compare and analyze code\n",
    "- Merge code from different computers and different team members.\n",
    "\n"
   ]
  },
  {
   "cell_type": "markdown",
   "metadata": {},
   "source": [
    "## Why git?\n",
    " \n",
    " - free and open software (GNU General Public License version 2.0)\n",
    " - small and fast\n",
    " - fast merging and branching\n",
    " - distributed repositories\n",
    " - Data security through content-hashes "
   ]
  },
  {
   "cell_type": "markdown",
   "metadata": {},
   "source": [
    "## Decentralization\n",
    "\n",
    "<img src=\"images/dvcs.png\" width=400 padding = 0px/>"
   ]
  },
  {
   "cell_type": "markdown",
   "metadata": {},
   "source": [
    "## Non-linear Development"
   ]
  },
  {
   "cell_type": "markdown",
   "metadata": {},
   "source": [
    "<img src=\"images/gitworkflow.png\" width=500 padding = 0px/>"
   ]
  },
  {
   "cell_type": "markdown",
   "metadata": {},
   "source": [
    "## How does it work\n",
    "I’m going to give you a lot of explanation here, but these are all the terminal commands that you really need to know to get started:\n",
    "\n",
    "```git clone```\n",
    "\n",
    "```git status```\n",
    "\n",
    "```git add```\n",
    "\n",
    "```git commit -m “ “```\n",
    "\n",
    "```git push```"
   ]
  },
  {
   "cell_type": "markdown",
   "metadata": {},
   "source": [
    "<img src=\"images/git_level.png\" width=500 padding = 0px/>"
   ]
  },
  {
   "cell_type": "markdown",
   "metadata": {},
   "source": [
    "## Configure your git environment\n",
    "\n",
    "`git config --global user.name \"Steven Hill\"`\n",
    "\n",
    "`git config --global user.email \"steven.hill@uni-wuerzburg.de\"`\n",
    "\n",
    "optional: ```git config --global color.ui autoset``` \n",
    "\n",
    "Check if git is configured\n",
    "\n",
    "`cat ~/.gitconfig`"
   ]
  },
  {
   "cell_type": "markdown",
   "metadata": {},
   "source": [
    "## Git repository\n",
    "\n",
    "A repository is a collection of related items. In a repository or a repo are all files including their previous versions. This means that all changes made to a file are always available in the repository and it is possible to track who made which changes and when.\n",
    "\n",
    "Basically a git repository is a folder of items being tracked by Git. "
   ]
  },
  {
   "cell_type": "markdown",
   "metadata": {},
   "source": [
    "## Getting a Git Repository\n",
    "\n",
    "You typically obtain a Git repository in one of two ways:\n",
    "\n",
    "  1. You can take a local directory that is currently not under version control, and turn it into a Git repository, or\n",
    "\n",
    "  2. You can clone an existing Git repository from elsewhere.\n",
    "\n"
   ]
  },
  {
   "cell_type": "markdown",
   "metadata": {},
   "source": [
    "## How to clone a repository\n",
    "\n",
    "4 different ways:\n",
    "  1. ZIP\n",
    "  2. Https\n",
    "  3. SSH\n",
    "  4. GitHub CLI \n",
    "  \n",
    "![](images/git_clone.png)  "
   ]
  },
  {
   "cell_type": "markdown",
   "metadata": {},
   "source": [
    "### Via Https\n",
    "\n",
    "`git clone https://github.com/eo2cube/eo2cube-tools.git`\n"
   ]
  },
  {
   "cell_type": "markdown",
   "metadata": {},
   "source": [
    "### GitHub CLI \n",
    "\n",
    "```gh https://github.com/eo2cube/eo2cube-tools.git clone```"
   ]
  },
  {
   "cell_type": "markdown",
   "metadata": {},
   "source": [
    "### Via SSH\n",
    "\n",
    "Create SSH key\n",
    "\n",
    "```ssh-keygen -t rsa -b 4096 -C \"meine_adresse@example.com\"```\n",
    "\n",
    "First, make sure that ssh-agent is running with:\n",
    "\n",
    "```ssh-agent -s``` \n",
    "\n",
    "Then, add your private key to ssh-agent with:\n",
    "\n",
    "```ssh-add ~/.ssh/id_rsa```\n",
    "\n",
    "Next, you need to copy your public SSH key to the clipboard.\n",
    "\n",
    "```cat ~/.ssh/id_rsa.pub``` # Linux\n",
    "\n",
    "```clip < ~/.ssh/id_rsa.pub``` # Windows\n",
    "\n",
    "Go to your GitHub settings page and click the \"New SSH key\" button\n",
    "\n",
    "![](images/add-ssh.png) "
   ]
  },
  {
   "cell_type": "markdown",
   "metadata": {},
   "source": [
    "## Create own repository\n",
    "\n",
    "First we going to create a new project folder and then initialize it as a Git repository. \n",
    "\n",
    "Create folder with project name\n",
    "\n",
    "```mkdir project_name ```\n",
    "\n",
    "Change into folder\n",
    "\n",
    "```cd project_name```\n",
    "\n",
    "Initialize the git repository\n",
    "\n",
    "```git init ```"
   ]
  },
  {
   "cell_type": "markdown",
   "metadata": {},
   "source": [
    "## Create example file\n",
    "\n",
    "Now that we've got a repository started let's add a file to it.\n",
    "\n",
    "```echo \"Hello World\" > test.html ```"
   ]
  },
  {
   "cell_type": "markdown",
   "metadata": {},
   "source": [
    "## Check status\n",
    "\n",
    "Next we want to check the status of your repository. We have already added a new file, so git should already have tracked the change. In order to check the status of yout git project you can use following command:\n",
    "\n",
    "```git status```\n",
    "\n"
   ]
  },
  {
   "cell_type": "markdown",
   "metadata": {},
   "source": [
    "## Staging\n",
    "\n",
    "You use the git add command to add a change from the working directory to the staging environment. This tells Git to include updates to a particular file in the next commit. However, git add has no significant effect on the repository: changes are not committed until you run git commit.\n",
    "\n",
    "Stage one or multiple files\n",
    "\n",
    "```git add index.html ```\n",
    "\n",
    "```git add *.html ```\n",
    "\n",
    "```git add --all ```"
   ]
  },
  {
   "cell_type": "markdown",
   "metadata": {},
   "source": [
    "### Git Commit\n",
    "\n",
    "With the git commit command, you capture a snapshot of the project's currently deployed changes.  Commits are snapshots or milestones in the timeline of your Git project. Commits are created using the ```git commit``` command, which captures the status of a project at that exact point in time, which are then committed to the local repository.\n",
    "\n",
    "Commit changes in stage to lokal repository\n",
    "\n",
    "```git commit -m \"My first commit\"```\n"
   ]
  },
  {
   "cell_type": "markdown",
   "metadata": {},
   "source": [
    "<img src=\"images/commit.png\" width=500 padding = 0px/>"
   ]
  },
  {
   "cell_type": "markdown",
   "metadata": {},
   "source": [
    "## Stage & Commit: Usefull commands\n",
    "\n",
    "```git status```\n",
    "\n",
    "show modified files in working directory, staged for your next commit\n",
    "\n",
    "```git reset [file]```\n",
    "\n",
    "unstage a file while retaining the changes in working directory\n",
    "\n",
    "```git diff```\n",
    "\n",
    "diff of what is changed but not staged\n",
    "\n",
    "```git diff --staged```\n",
    "\n",
    "diff of what is staged but not yet committed\n",
    "\n",
    "```git commit -a -m \"some text\"```\n",
    "\n",
    "stage all changes and commit them\n",
    "\n",
    "```Change the most recent commit message```"
   ]
  },
  {
   "cell_type": "markdown",
   "metadata": {},
   "source": [
    "# Github\n",
    "\n",
    "GitHub is a website that allows people everywhere to upload what they're working on with Git so that everyone can easily work together on the same project. GitHub which acts as the central repository for you and everyone else to share. You push your changes to it and pull down changes from others."
   ]
  },
  {
   "cell_type": "markdown",
   "metadata": {},
   "source": [
    "## Create a GitHub repository\n",
    "\n",
    "- Visit github.com and sign up for a free account\n",
    "\n",
    "- You want to sync your local version with one stored on GitHub.com. First you have to create a new remote repository on GitHub.com.\n",
    "\n",
    "- Go to github.com, log in, and click the '+' in the top right and then click 'New repository'.\n",
    "\n",
    "- Give it a name that matches your local repository's name and a short description."
   ]
  },
  {
   "cell_type": "markdown",
   "metadata": {},
   "source": [
    "### Readmes, .gitignores and Licenses\n",
    "\n",
    "Readmes, .gitignores and Licenses are common files in many open source projects.\n",
    "\n",
    "- A **readme** describes the project. It explains what the project is, how to use it, and often times, how to contribute.\n",
    "\n",
    "- **.gitignore** is a list of files that shouldn't be tracked by Github (e.g. password list)\n",
    "\n",
    "- The **license** contains the license. The license lets others know how they can change and distribute the software. For more information on different licenses: choosealicense.com."
   ]
  },
  {
   "cell_type": "markdown",
   "metadata": {},
   "source": [
    "## Connect to local\n",
    "\n",
    "To add a remote named 'origin' to your repository:\n",
    "\n",
    "```git remote add origin <GITHUBREPURL>```\n",
    "    \n",
    "The primary remote is typically named origin. Your local repository now knows where your remote repository, lives on GitHub's servers. "
   ]
  },
  {
   "cell_type": "markdown",
   "metadata": {},
   "source": [
    "## Push to remote\n",
    "\n",
    "Next you want to push everything we've done locally to your remote repository on GitHub. \n",
    "\n",
    "```git push origin main```\n",
    "\n",
    "Git has a branching system so that you can work on different parts of a project at different times. By default the first branch is named 'main'.\n",
    "\n",
    "## Pull\n",
    "\n",
    "The git pull command is used to download content from a remote repository and immediately update the local repository to match the content.\n",
    "\n",
    "It is actually a combination of git fetch followed by git merge. The git pull command performs a git fetch that includes the local branch referenced by HEAD. Once the content has been downloaded, git pull starts a merge workflow. A new merge commit is created and HEAD is updated to point to the new commit.\n",
    "\n",
    "```git pull```\n",
    "\n",
    "or \n",
    "\n",
    "```git fetch ＜remote＞``` \n",
    "\n",
    "```git merge origin/＜current-branch＞```\n"
   ]
  },
  {
   "cell_type": "markdown",
   "metadata": {},
   "source": [
    "## Forks\n",
    "\n",
    "When you fork a repository, you're creating a copy of it on your GitHub account. Forks are used for creating your own version of a project or contributing back your changes to the original project.\n",
    "\n",
    "To do this, click on the \"Fork\" button at the very top right of the GitHub repository web page.\n",
    "\n",
    "<img src=\"images/fork.png\" width=500 padding = 0px/>"
   ]
  },
  {
   "cell_type": "markdown",
   "metadata": {},
   "source": [
    "## Branches\n",
    "\n",
    "Before you start developing, it is advisable to create your own branch. We can use branches to isolate work when needed. This feature allows multiple people to work on one project. Git branches are effectively references to a snapshot of your changes. When you want to add a new feature or fix a bug, you create a new branch that contains your changes This way you can do your work while the main, commonly named 'master', branch stays stable. When the work is finished you merge it back to the master.\n",
    "\n",
    "<img src=\"images/gitworkflow.png\" width=500 padding = 0px/>"
   ]
  },
  {
   "cell_type": "markdown",
   "metadata": {},
   "source": [
    "When you create a branch, Git copies everything from the current branch you're on and places it in the branch you've requested be made.\n",
    "\n",
    "```git branch```\n",
    "\n",
    "In order to switch into your branch and work you can use following:\n",
    "\n",
    "```git checkout <branch>```"
   ]
  },
  {
   "cell_type": "markdown",
   "metadata": {},
   "source": [
    "## Pull Requests\n",
    "\n",
    "Often when you make changes and improvements to a project you've forked, you'll want to send those changes to the maintainer of the original and request that they pull those changes into the original so that everyone can benefit from the updates—that's a pull request"
   ]
  },
  {
   "cell_type": "markdown",
   "metadata": {},
   "source": [
    "# Advanced stuff"
   ]
  },
  {
   "cell_type": "markdown",
   "metadata": {},
   "source": [
    "## Log and Checkout \n",
    "\n",
    "Once a project history of commits is created, you can revisit and check each commit in the history. One of the best utilities for checking the history of a Git repository is the git log command.\n",
    "\n",
    "```git log```\n",
    "\n",
    "Each commit has a unique SHA-1 hash for identification. By default, git log only shows commits for the currently selected branch. To view commits of all branches just use\n",
    "\n",
    "```git log --branches=*```\n",
    "\n",
    "If you have found a commit reference at the time you want to visit, you can use the git checkout command to invoke that commit. In Git, \"checking out\" means making a certain state your current working state.\n",
    "\n",
    "```git checkout 757c47d4```\n",
    "\n",
    "Your working directory will then be in exactly the same state as the commit 757c47d4\n",
    "If you want to go back to your 'current' project state you can just use\n",
    "\n",
    "```git checkout master``` \n"
   ]
  },
  {
   "cell_type": "markdown",
   "metadata": {},
   "source": [
    "## Undo commits\n",
    "\n",
    "```git commit --amend```\n",
    "\n",
    "Undo the latest commit\n",
    "\n",
    "```git revert HEAD```   \n",
    "\n",
    "This creates a new commit that reverts the last commit.\n",
    "\n",
    "```git reset --hard  757c47d4```\n",
    "\n",
    "The commit history is reset to this specified commit.\n",
    "\n",
    "\n"
   ]
  },
  {
   "cell_type": "code",
   "execution_count": null,
   "metadata": {},
   "outputs": [],
   "source": [
    "GIT CLEAN"
   ]
  },
  {
   "cell_type": "code",
   "execution_count": null,
   "metadata": {},
   "outputs": [],
   "source": []
  },
  {
   "cell_type": "code",
   "execution_count": null,
   "metadata": {},
   "outputs": [],
   "source": []
  },
  {
   "cell_type": "markdown",
   "metadata": {},
   "source": [
    "## Structure of the .git directory\n",
    "\n",
    "- **HEAD** -> pointer to branch and latest commit  \n",
    "- **config** -> configuration preference including the credentials \n",
    "- **description** -> project description\n",
    "- **index** -> staging area\n",
    "- **logs** -> keeps records of changes in ref\n",
    "- **objects** -> contains commit, tree and blob objects \n",
    "- **hooks** -> Hooks are customization scripts used by various Git commands\n",
    "- **refs** -> holds references to all of the objects in the directory"
   ]
  },
  {
   "cell_type": "code",
   "execution_count": null,
   "metadata": {},
   "outputs": [],
   "source": [
    "## Structure of the .git directory\n",
    "\n",
    "- **HEAD** -> pointer to branch and latest commit  \n",
    "- **config** -> configuration preference including the credentials \n",
    "- **description** -> project description\n",
    "- **index** -> staging area\n",
    "- **logs** -> keeps records of changes in ref\n",
    "- **objects** -> contains commit, tree and blob objects \n",
    "- **hooks** -> Hooks are customization scripts used by various Git commands\n",
    "- **refs** -> holds references to all of the objects in the directory"
   ]
  }
 ],
 "metadata": {
  "kernelspec": {
   "display_name": "Python 3",
   "language": "python",
   "name": "python3"
  },
  "language_info": {
   "codemirror_mode": {
    "name": "ipython",
    "version": 3
   },
   "file_extension": ".py",
   "mimetype": "text/x-python",
   "name": "python",
   "nbconvert_exporter": "python",
   "pygments_lexer": "ipython3",
   "version": "3.8.3"
  }
 },
 "nbformat": 4,
 "nbformat_minor": 4
}
